{
 "cells": [
  {
   "cell_type": "markdown",
   "metadata": {},
   "source": [
    "# Prediciendo si un cliente pagará su tarjeta de crédito con ANN (Artificial Neural Networks)"
   ]
  },
  {
   "cell_type": "markdown",
   "metadata": {},
   "source": [
    "En primer lugar, importamos las librerías necesarias para leer los datos"
   ]
  },
  {
   "cell_type": "code",
   "execution_count": 1,
   "metadata": {},
   "outputs": [],
   "source": [
    "import numpy as np\n",
    "import matplotlib.pyplot as plt\n",
    "import pandas as pd"
   ]
  },
  {
   "cell_type": "markdown",
   "metadata": {},
   "source": [
    "Importemos el dataset"
   ]
  },
  {
   "cell_type": "code",
   "execution_count": 2,
   "metadata": {},
   "outputs": [],
   "source": [
    "dataset = pd.read_csv('default_of_credit_card_clients.csv')"
   ]
  },
  {
   "cell_type": "markdown",
   "metadata": {},
   "source": [
    "Veamos la estructura del dataset viendo las primeras lineas del mismo"
   ]
  },
  {
   "cell_type": "code",
   "execution_count": 3,
   "metadata": {},
   "outputs": [
    {
     "data": {
      "text/html": [
       "<div>\n",
       "<style scoped>\n",
       "    .dataframe tbody tr th:only-of-type {\n",
       "        vertical-align: middle;\n",
       "    }\n",
       "\n",
       "    .dataframe tbody tr th {\n",
       "        vertical-align: top;\n",
       "    }\n",
       "\n",
       "    .dataframe thead th {\n",
       "        text-align: right;\n",
       "    }\n",
       "</style>\n",
       "<table border=\"1\" class=\"dataframe\">\n",
       "  <thead>\n",
       "    <tr style=\"text-align: right;\">\n",
       "      <th></th>\n",
       "      <th>Unnamed: 0</th>\n",
       "      <th>X1</th>\n",
       "      <th>X2</th>\n",
       "      <th>X3</th>\n",
       "      <th>X4</th>\n",
       "      <th>X5</th>\n",
       "      <th>X6</th>\n",
       "      <th>X7</th>\n",
       "      <th>X8</th>\n",
       "      <th>X9</th>\n",
       "      <th>...</th>\n",
       "      <th>X15</th>\n",
       "      <th>X16</th>\n",
       "      <th>X17</th>\n",
       "      <th>X18</th>\n",
       "      <th>X19</th>\n",
       "      <th>X20</th>\n",
       "      <th>X21</th>\n",
       "      <th>X22</th>\n",
       "      <th>X23</th>\n",
       "      <th>Y</th>\n",
       "    </tr>\n",
       "  </thead>\n",
       "  <tbody>\n",
       "    <tr>\n",
       "      <th>0</th>\n",
       "      <td>ID</td>\n",
       "      <td>LIMIT_BAL</td>\n",
       "      <td>SEX</td>\n",
       "      <td>EDUCATION</td>\n",
       "      <td>MARRIAGE</td>\n",
       "      <td>AGE</td>\n",
       "      <td>PAY_0</td>\n",
       "      <td>PAY_2</td>\n",
       "      <td>PAY_3</td>\n",
       "      <td>PAY_4</td>\n",
       "      <td>...</td>\n",
       "      <td>BILL_AMT4</td>\n",
       "      <td>BILL_AMT5</td>\n",
       "      <td>BILL_AMT6</td>\n",
       "      <td>PAY_AMT1</td>\n",
       "      <td>PAY_AMT2</td>\n",
       "      <td>PAY_AMT3</td>\n",
       "      <td>PAY_AMT4</td>\n",
       "      <td>PAY_AMT5</td>\n",
       "      <td>PAY_AMT6</td>\n",
       "      <td>default payment next month</td>\n",
       "    </tr>\n",
       "    <tr>\n",
       "      <th>1</th>\n",
       "      <td>1</td>\n",
       "      <td>20000</td>\n",
       "      <td>2</td>\n",
       "      <td>2</td>\n",
       "      <td>1</td>\n",
       "      <td>24</td>\n",
       "      <td>2</td>\n",
       "      <td>2</td>\n",
       "      <td>-1</td>\n",
       "      <td>-1</td>\n",
       "      <td>...</td>\n",
       "      <td>0</td>\n",
       "      <td>0</td>\n",
       "      <td>0</td>\n",
       "      <td>0</td>\n",
       "      <td>689</td>\n",
       "      <td>0</td>\n",
       "      <td>0</td>\n",
       "      <td>0</td>\n",
       "      <td>0</td>\n",
       "      <td>1</td>\n",
       "    </tr>\n",
       "    <tr>\n",
       "      <th>2</th>\n",
       "      <td>2</td>\n",
       "      <td>120000</td>\n",
       "      <td>2</td>\n",
       "      <td>2</td>\n",
       "      <td>2</td>\n",
       "      <td>26</td>\n",
       "      <td>-1</td>\n",
       "      <td>2</td>\n",
       "      <td>0</td>\n",
       "      <td>0</td>\n",
       "      <td>...</td>\n",
       "      <td>3272</td>\n",
       "      <td>3455</td>\n",
       "      <td>3261</td>\n",
       "      <td>0</td>\n",
       "      <td>1000</td>\n",
       "      <td>1000</td>\n",
       "      <td>1000</td>\n",
       "      <td>0</td>\n",
       "      <td>2000</td>\n",
       "      <td>1</td>\n",
       "    </tr>\n",
       "    <tr>\n",
       "      <th>3</th>\n",
       "      <td>3</td>\n",
       "      <td>90000</td>\n",
       "      <td>2</td>\n",
       "      <td>2</td>\n",
       "      <td>2</td>\n",
       "      <td>34</td>\n",
       "      <td>0</td>\n",
       "      <td>0</td>\n",
       "      <td>0</td>\n",
       "      <td>0</td>\n",
       "      <td>...</td>\n",
       "      <td>14331</td>\n",
       "      <td>14948</td>\n",
       "      <td>15549</td>\n",
       "      <td>1518</td>\n",
       "      <td>1500</td>\n",
       "      <td>1000</td>\n",
       "      <td>1000</td>\n",
       "      <td>1000</td>\n",
       "      <td>5000</td>\n",
       "      <td>0</td>\n",
       "    </tr>\n",
       "    <tr>\n",
       "      <th>4</th>\n",
       "      <td>4</td>\n",
       "      <td>50000</td>\n",
       "      <td>2</td>\n",
       "      <td>2</td>\n",
       "      <td>1</td>\n",
       "      <td>37</td>\n",
       "      <td>0</td>\n",
       "      <td>0</td>\n",
       "      <td>0</td>\n",
       "      <td>0</td>\n",
       "      <td>...</td>\n",
       "      <td>28314</td>\n",
       "      <td>28959</td>\n",
       "      <td>29547</td>\n",
       "      <td>2000</td>\n",
       "      <td>2019</td>\n",
       "      <td>1200</td>\n",
       "      <td>1100</td>\n",
       "      <td>1069</td>\n",
       "      <td>1000</td>\n",
       "      <td>0</td>\n",
       "    </tr>\n",
       "  </tbody>\n",
       "</table>\n",
       "<p>5 rows × 25 columns</p>\n",
       "</div>"
      ],
      "text/plain": [
       "  Unnamed: 0         X1   X2         X3        X4   X5     X6     X7     X8  \\\n",
       "0         ID  LIMIT_BAL  SEX  EDUCATION  MARRIAGE  AGE  PAY_0  PAY_2  PAY_3   \n",
       "1          1      20000    2          2         1   24      2      2     -1   \n",
       "2          2     120000    2          2         2   26     -1      2      0   \n",
       "3          3      90000    2          2         2   34      0      0      0   \n",
       "4          4      50000    2          2         1   37      0      0      0   \n",
       "\n",
       "      X9             ...                    X15        X16        X17  \\\n",
       "0  PAY_4             ...              BILL_AMT4  BILL_AMT5  BILL_AMT6   \n",
       "1     -1             ...                      0          0          0   \n",
       "2      0             ...                   3272       3455       3261   \n",
       "3      0             ...                  14331      14948      15549   \n",
       "4      0             ...                  28314      28959      29547   \n",
       "\n",
       "        X18       X19       X20       X21       X22       X23  \\\n",
       "0  PAY_AMT1  PAY_AMT2  PAY_AMT3  PAY_AMT4  PAY_AMT5  PAY_AMT6   \n",
       "1         0       689         0         0         0         0   \n",
       "2         0      1000      1000      1000         0      2000   \n",
       "3      1518      1500      1000      1000      1000      5000   \n",
       "4      2000      2019      1200      1100      1069      1000   \n",
       "\n",
       "                            Y  \n",
       "0  default payment next month  \n",
       "1                           1  \n",
       "2                           1  \n",
       "3                           0  \n",
       "4                           0  \n",
       "\n",
       "[5 rows x 25 columns]"
      ]
     },
     "execution_count": 3,
     "metadata": {},
     "output_type": "execute_result"
    }
   ],
   "source": [
    "dataset.head()"
   ]
  },
  {
   "cell_type": "markdown",
   "metadata": {},
   "source": [
    "Observamos que la primera columna contiene el id del cliente y no tiene una etiqueta de columna, esta información no tiene significado estadístico por\n",
    "lo que la eliminaremos"
   ]
  },
  {
   "cell_type": "markdown",
   "metadata": {},
   "source": [
    "De la misma manera, el dataset contiene una línea adicional que explica las variables independientes *X1..X23* y \n",
    "la variable independiente *y*, eliminaremos también esta línea"
   ]
  },
  {
   "cell_type": "markdown",
   "metadata": {},
   "source": [
    "## Explicación de las variables del modelo"
   ]
  },
  {
   "cell_type": "markdown",
   "metadata": {},
   "source": [
    "**Fuente**:\n",
    "\n",
    "Name: I-Cheng Yeh \n",
    "email addresses: (1) icyeh '@' chu.edu.tw (2) 140910 '@' mail.tku.edu.tw \n",
    "institutions: (1) Department of Information Management, Chung Hua University, Taiwan. (2)\n",
    "Department of Civil Engineering, Tamkang University, Taiwan. \n",
    "other contact information: 886-2-26215656 ext. 3181 \n",
    "\n",
    "\n",
    "**Información del Data set**:\n",
    "\n",
    "\"This research aimed at the case of customer default payments in Taiwan. \n",
    "From the perspective of risk management, the result of predictive accuracy of the estimated probability of\n",
    "default will be more valuable than the binary result of classification - credible or not credible clients.\" \n"
   ]
  },
  {
   "cell_type": "markdown",
   "metadata": {},
   "source": [
    "**Información de las variables:**"
   ]
  },
  {
   "cell_type": "markdown",
   "metadata": {},
   "source": [
    "**X1**: Monto autorizado de la tarjeta de crédito, comprende también las tarjetas adicionales del grupo familiar"
   ]
  },
  {
   "cell_type": "markdown",
   "metadata": {},
   "source": [
    "**X2**: Género (1 = Hombre, 2 = Mujer)"
   ]
  },
  {
   "cell_type": "markdown",
   "metadata": {},
   "source": [
    "**X3**: Estudios (1 = Educación Básica, 2 = Universidad, 3 = Educación Media, 4 = Otros )"
   ]
  },
  {
   "cell_type": "markdown",
   "metadata": {},
   "source": [
    "**X4**: Estado Civil (1 = casada/o, 2 = soltera/o, 3 = Otros)"
   ]
  },
  {
   "cell_type": "markdown",
   "metadata": {},
   "source": [
    "**X5**: Edad (En años enteros)"
   ]
  },
  {
   "cell_type": "markdown",
   "metadata": {},
   "source": [
    "**X6 - X11**: Histórico de pagos mensuales de abril a septiembre 2005, X6 = Estado de pago a septiembre 2005,\n",
    "    X7 = Estado de pago a agosto 2005, ...X11 = Estado de pago a abril 2005. Los valores posibles son -n: número de \n",
    "        pagos adelantados, 0: pago al día y +n: número de pagos retrasados."
   ]
  },
  {
   "cell_type": "markdown",
   "metadata": {},
   "source": [
    "**X12 - X17**: Monto facturado mensual. X12 = monto facturado a septiembre 2005, X13 = Monto facturado a \n",
    "    agosto 2005,..., X17 = monto facturado a abril 2005"
   ]
  },
  {
   "cell_type": "markdown",
   "metadata": {},
   "source": [
    "**X18 - X23**: Monto de los pagos anteriores. X18 = Monto pagado en septiembre 2005, X19 = Monto pagado en \n",
    "    agosto 2005,..., X23 = Monto pagado en abril 2005."
   ]
  },
  {
   "cell_type": "markdown",
   "metadata": {},
   "source": [
    "## Limpieza de datos... ##"
   ]
  },
  {
   "cell_type": "markdown",
   "metadata": {},
   "source": [
    "Eliminemos la primera línea, crearemos un dataset de trabajo, manteniendo el original para consulta si es necesario"
   ]
  },
  {
   "cell_type": "code",
   "execution_count": 4,
   "metadata": {},
   "outputs": [],
   "source": [
    "wds = dataset.drop(dataset.index[0])"
   ]
  },
  {
   "cell_type": "markdown",
   "metadata": {},
   "source": [
    "Eliminemos la columna del id (sin nombre de columna)"
   ]
  },
  {
   "cell_type": "code",
   "execution_count": 5,
   "metadata": {},
   "outputs": [],
   "source": [
    "wds = wds.drop(['Unnamed: 0'], axis=1)"
   ]
  },
  {
   "cell_type": "markdown",
   "metadata": {},
   "source": [
    "Recuperemos los nombres de las columnas para poder filtrar el working dataset en variables dependientes y la \n",
    "independiente por separado"
   ]
  },
  {
   "cell_type": "code",
   "execution_count": 6,
   "metadata": {},
   "outputs": [],
   "source": [
    "wds_cols = list(wds.columns)"
   ]
  },
  {
   "cell_type": "markdown",
   "metadata": {},
   "source": [
    "Veamos los nombres de las columnas"
   ]
  },
  {
   "cell_type": "code",
   "execution_count": 7,
   "metadata": {},
   "outputs": [
    {
     "name": "stdout",
     "output_type": "stream",
     "text": [
      "['X1', 'X2', 'X3', 'X4', 'X5', 'X6', 'X7', 'X8', 'X9', 'X10', 'X11', 'X12', 'X13', 'X14', 'X15', 'X16', 'X17', 'X18', 'X19', 'X20', 'X21', 'X22', 'X23', 'Y']\n"
     ]
    }
   ],
   "source": [
    "print(wds_cols)"
   ]
  },
  {
   "cell_type": "markdown",
   "metadata": {},
   "source": [
    "Todo OK, hemos eliminado la columna no deseada y las filas de explicaciones"
   ]
  },
  {
   "cell_type": "markdown",
   "metadata": {},
   "source": [
    "## Visualización Distribución Variables Independientes ##"
   ]
  },
  {
   "cell_type": "markdown",
   "metadata": {},
   "source": [
    "Distribuciones de \"Monto Autorizado\" y \"Edad\""
   ]
  },
  {
   "cell_type": "code",
   "execution_count": 8,
   "metadata": {},
   "outputs": [
    {
     "data": {
      "image/png": "[encoded data removed]",
      "text/plain": [
       "<Figure size 432x288 with 2 Axes>"
      ]
     },
     "metadata": {},
     "output_type": "display_data"
    }
   ],
   "source": [
    "fig, axes = plt.subplots(nrows=1, ncols=2)\n",
    "wds['X1'].astype(int).plot.hist(ax=axes[0], bins=20); axes[0].set_title('Monto Autorizado');\n",
    "wds['X5'].astype(int).plot.hist(ax=axes[1],bins=10); axes[1].set_title('Edad');"
   ]
  },
  {
   "cell_type": "markdown",
   "metadata": {},
   "source": [
    "Distribuciones de \"Monto Facturado Sept\" y \"Monto Pagado Sept\""
   ]
  },
  {
   "cell_type": "code",
   "execution_count": 9,
   "metadata": {},
   "outputs": [
    {
     "data": {
      "image/png": "[encoded data removed]",
      "text/plain": [
       "<Figure size 432x288 with 2 Axes>"
      ]
     },
     "metadata": {},
     "output_type": "display_data"
    }
   ],
   "source": [
    "fig, axes = plt.subplots(nrows=1, ncols=2)\n",
    "wds['X12'].astype(int).plot.hist(ax=axes[0], bins=10); axes[0].set_title('Monto Facturado Sept');\n",
    "wds['X18'].astype(int).plot.hist(ax=axes[1], bins=10); axes[1].set_title('Monto Pagado Sept');"
   ]
  },
  {
   "cell_type": "markdown",
   "metadata": {},
   "source": [
    "Distribuciones de \"Monto Facturado Ago\" y \"Monto Pagado Ago\""
   ]
  },
  {
   "cell_type": "code",
   "execution_count": 10,
   "metadata": {},
   "outputs": [
    {
     "data": {
      "image/png": "[encoded data removed]",
      "text/plain": [
       "<Figure size 432x288 with 2 Axes>"
      ]
     },
     "metadata": {},
     "output_type": "display_data"
    }
   ],
   "source": [
    "fig, axes = plt.subplots(nrows=1, ncols=2)\n",
    "wds['X13'].astype(int).plot.hist(ax=axes[0], bins=10); axes[0].set_title('Monto Facturado Ago');\n",
    "wds['X19'].astype(int).plot.hist(ax=axes[1], bins=10); axes[1].set_title('Monto Pagado Ago');"
   ]
  },
  {
   "cell_type": "markdown",
   "metadata": {},
   "source": [
    "Distribuciones de \"Monto Facturado Jul\" y \"Monto Pagado Jul\""
   ]
  },
  {
   "cell_type": "code",
   "execution_count": 11,
   "metadata": {},
   "outputs": [
    {
     "data": {
      "image/png": "[encoded data removed]",
      "text/plain": [
       "<Figure size 432x288 with 2 Axes>"
      ]
     },
     "metadata": {},
     "output_type": "display_data"
    }
   ],
   "source": [
    "fig, axes = plt.subplots(nrows=1, ncols=2)\n",
    "wds['X14'].astype(int).plot.hist(ax=axes[0], bins=10); axes[0].set_title('Monto Facturado Jul');\n",
    "wds['X20'].astype(int).plot.hist(ax=axes[1], bins=10); axes[1].set_title('Monto Pagado Jul');"
   ]
  },
  {
   "cell_type": "markdown",
   "metadata": {},
   "source": [
    "Distribuciones de \"Monto Facturado Jun\" y \"Monto Pagado Jun\""
   ]
  },
  {
   "cell_type": "code",
   "execution_count": 12,
   "metadata": {},
   "outputs": [
    {
     "data": {
      "image/png": "[encoded data removed]",
      "text/plain": [
       "<Figure size 432x288 with 2 Axes>"
      ]
     },
     "metadata": {},
     "output_type": "display_data"
    }
   ],
   "source": [
    "fig, axes = plt.subplots(nrows=1, ncols=2)\n",
    "wds['X15'].astype(int).plot.hist(ax=axes[0], bins=10); axes[0].set_title('Monto Facturado Jun');\n",
    "wds['X21'].astype(int).plot.hist(ax=axes[1], bins=10); axes[1].set_title('Monto Pagado Jun');"
   ]
  },
  {
   "cell_type": "markdown",
   "metadata": {},
   "source": [
    "Distribuciones de \"Monto Facturado May\" y \"Monto Pagado May\""
   ]
  },
  {
   "cell_type": "code",
   "execution_count": 13,
   "metadata": {},
   "outputs": [
    {
     "data": {
      "image/png": "[encoded data removed]",
      "text/plain": [
       "<Figure size 432x288 with 2 Axes>"
      ]
     },
     "metadata": {},
     "output_type": "display_data"
    }
   ],
   "source": [
    "fig, axes = plt.subplots(nrows=1, ncols=2)\n",
    "wds['X16'].astype(int).plot.hist(ax=axes[0], bins=10); axes[0].set_title('Monto Facturado May');\n",
    "wds['X22'].astype(int).plot.hist(ax=axes[1], bins=10); axes[1].set_title('Monto Pagado May');"
   ]
  },
  {
   "cell_type": "markdown",
   "metadata": {},
   "source": [
    "Distribuciones de \"Monto Facturado Abri\" y \"Monto Pagado Abri\""
   ]
  },
  {
   "cell_type": "code",
   "execution_count": 14,
   "metadata": {},
   "outputs": [
    {
     "data": {
      "image/png": "[encoded data removed]",
      "text/plain": [
       "<Figure size 432x288 with 2 Axes>"
      ]
     },
     "metadata": {},
     "output_type": "display_data"
    }
   ],
   "source": [
    "fig, axes = plt.subplots(nrows=1, ncols=2)\n",
    "wds['X17'].astype(int).plot.hist(ax=axes[0], bins=10); axes[0].set_title('Monto Facturado Abri');\n",
    "wds['X23'].astype(int).plot.hist(ax=axes[1], bins=10); axes[1].set_title('Monto Pagado Abri');"
   ]
  },
  {
   "cell_type": "markdown",
   "metadata": {},
   "source": [
    "Separemos el working dataset en las variables dependientes X, y la independiente y"
   ]
  },
  {
   "cell_type": "markdown",
   "metadata": {},
   "source": [
    "Crearemos los arreglos X_cols que recuperan las columnas de las variables independientes y y_cols de la variable \n",
    "dependiente a predecir"
   ]
  },
  {
   "cell_type": "code",
   "execution_count": 15,
   "metadata": {},
   "outputs": [],
   "source": [
    "X_cols = wds_cols[0:-1]  # Todo menos la última columna"
   ]
  },
  {
   "cell_type": "code",
   "execution_count": 16,
   "metadata": {},
   "outputs": [
    {
     "name": "stdout",
     "output_type": "stream",
     "text": [
      "['X1', 'X2', 'X3', 'X4', 'X5', 'X6', 'X7', 'X8', 'X9', 'X10', 'X11', 'X12', 'X13', 'X14', 'X15', 'X16', 'X17', 'X18', 'X19', 'X20', 'X21', 'X22', 'X23']\n"
     ]
    }
   ],
   "source": [
    "print(X_cols)"
   ]
  },
  {
   "cell_type": "code",
   "execution_count": 17,
   "metadata": {},
   "outputs": [],
   "source": [
    "y_col = wds_cols[-1]"
   ]
  },
  {
   "cell_type": "code",
   "execution_count": 18,
   "metadata": {},
   "outputs": [
    {
     "name": "stdout",
     "output_type": "stream",
     "text": [
      "Y\n"
     ]
    }
   ],
   "source": [
    "print(y_col)"
   ]
  },
  {
   "cell_type": "markdown",
   "metadata": {},
   "source": [
    "Atención y_col no es una lista, es una cadena simple"
   ]
  },
  {
   "cell_type": "markdown",
   "metadata": {},
   "source": [
    "Separemos en X_wds y y_wds el working dataset"
   ]
  },
  {
   "cell_type": "code",
   "execution_count": 19,
   "metadata": {},
   "outputs": [],
   "source": [
    "X_wds = wds.filter(items=X_cols)"
   ]
  },
  {
   "cell_type": "code",
   "execution_count": 20,
   "metadata": {},
   "outputs": [],
   "source": [
    "y_wds = wds.filter(items=[y_col]) # Debemos hacer una lista por la firma del método"
   ]
  },
  {
   "cell_type": "markdown",
   "metadata": {},
   "source": [
    "Vemos ambos datasets"
   ]
  },
  {
   "cell_type": "code",
   "execution_count": 21,
   "metadata": {},
   "outputs": [
    {
     "data": {
      "text/html": [
       "<div>\n",
       "<style scoped>\n",
       "    .dataframe tbody tr th:only-of-type {\n",
       "        vertical-align: middle;\n",
       "    }\n",
       "\n",
       "    .dataframe tbody tr th {\n",
       "        vertical-align: top;\n",
       "    }\n",
       "\n",
       "    .dataframe thead th {\n",
       "        text-align: right;\n",
       "    }\n",
       "</style>\n",
       "<table border=\"1\" class=\"dataframe\">\n",
       "  <thead>\n",
       "    <tr style=\"text-align: right;\">\n",
       "      <th></th>\n",
       "      <th>X1</th>\n",
       "      <th>X2</th>\n",
       "      <th>X3</th>\n",
       "      <th>X4</th>\n",
       "      <th>X5</th>\n",
       "      <th>X6</th>\n",
       "      <th>X7</th>\n",
       "      <th>X8</th>\n",
       "      <th>X9</th>\n",
       "      <th>X10</th>\n",
       "      <th>...</th>\n",
       "      <th>X14</th>\n",
       "      <th>X15</th>\n",
       "      <th>X16</th>\n",
       "      <th>X17</th>\n",
       "      <th>X18</th>\n",
       "      <th>X19</th>\n",
       "      <th>X20</th>\n",
       "      <th>X21</th>\n",
       "      <th>X22</th>\n",
       "      <th>X23</th>\n",
       "    </tr>\n",
       "  </thead>\n",
       "  <tbody>\n",
       "    <tr>\n",
       "      <th>1</th>\n",
       "      <td>20000</td>\n",
       "      <td>2</td>\n",
       "      <td>2</td>\n",
       "      <td>1</td>\n",
       "      <td>24</td>\n",
       "      <td>2</td>\n",
       "      <td>2</td>\n",
       "      <td>-1</td>\n",
       "      <td>-1</td>\n",
       "      <td>-2</td>\n",
       "      <td>...</td>\n",
       "      <td>689</td>\n",
       "      <td>0</td>\n",
       "      <td>0</td>\n",
       "      <td>0</td>\n",
       "      <td>0</td>\n",
       "      <td>689</td>\n",
       "      <td>0</td>\n",
       "      <td>0</td>\n",
       "      <td>0</td>\n",
       "      <td>0</td>\n",
       "    </tr>\n",
       "    <tr>\n",
       "      <th>2</th>\n",
       "      <td>120000</td>\n",
       "      <td>2</td>\n",
       "      <td>2</td>\n",
       "      <td>2</td>\n",
       "      <td>26</td>\n",
       "      <td>-1</td>\n",
       "      <td>2</td>\n",
       "      <td>0</td>\n",
       "      <td>0</td>\n",
       "      <td>0</td>\n",
       "      <td>...</td>\n",
       "      <td>2682</td>\n",
       "      <td>3272</td>\n",
       "      <td>3455</td>\n",
       "      <td>3261</td>\n",
       "      <td>0</td>\n",
       "      <td>1000</td>\n",
       "      <td>1000</td>\n",
       "      <td>1000</td>\n",
       "      <td>0</td>\n",
       "      <td>2000</td>\n",
       "    </tr>\n",
       "    <tr>\n",
       "      <th>3</th>\n",
       "      <td>90000</td>\n",
       "      <td>2</td>\n",
       "      <td>2</td>\n",
       "      <td>2</td>\n",
       "      <td>34</td>\n",
       "      <td>0</td>\n",
       "      <td>0</td>\n",
       "      <td>0</td>\n",
       "      <td>0</td>\n",
       "      <td>0</td>\n",
       "      <td>...</td>\n",
       "      <td>13559</td>\n",
       "      <td>14331</td>\n",
       "      <td>14948</td>\n",
       "      <td>15549</td>\n",
       "      <td>1518</td>\n",
       "      <td>1500</td>\n",
       "      <td>1000</td>\n",
       "      <td>1000</td>\n",
       "      <td>1000</td>\n",
       "      <td>5000</td>\n",
       "    </tr>\n",
       "    <tr>\n",
       "      <th>4</th>\n",
       "      <td>50000</td>\n",
       "      <td>2</td>\n",
       "      <td>2</td>\n",
       "      <td>1</td>\n",
       "      <td>37</td>\n",
       "      <td>0</td>\n",
       "      <td>0</td>\n",
       "      <td>0</td>\n",
       "      <td>0</td>\n",
       "      <td>0</td>\n",
       "      <td>...</td>\n",
       "      <td>49291</td>\n",
       "      <td>28314</td>\n",
       "      <td>28959</td>\n",
       "      <td>29547</td>\n",
       "      <td>2000</td>\n",
       "      <td>2019</td>\n",
       "      <td>1200</td>\n",
       "      <td>1100</td>\n",
       "      <td>1069</td>\n",
       "      <td>1000</td>\n",
       "    </tr>\n",
       "    <tr>\n",
       "      <th>5</th>\n",
       "      <td>50000</td>\n",
       "      <td>1</td>\n",
       "      <td>2</td>\n",
       "      <td>1</td>\n",
       "      <td>57</td>\n",
       "      <td>-1</td>\n",
       "      <td>0</td>\n",
       "      <td>-1</td>\n",
       "      <td>0</td>\n",
       "      <td>0</td>\n",
       "      <td>...</td>\n",
       "      <td>35835</td>\n",
       "      <td>20940</td>\n",
       "      <td>19146</td>\n",
       "      <td>19131</td>\n",
       "      <td>2000</td>\n",
       "      <td>36681</td>\n",
       "      <td>10000</td>\n",
       "      <td>9000</td>\n",
       "      <td>689</td>\n",
       "      <td>679</td>\n",
       "    </tr>\n",
       "  </tbody>\n",
       "</table>\n",
       "<p>5 rows × 23 columns</p>\n",
       "</div>"
      ],
      "text/plain": [
       "       X1 X2 X3 X4  X5  X6 X7  X8  X9 X10  ...     X14    X15    X16    X17  \\\n",
       "1   20000  2  2  1  24   2  2  -1  -1  -2  ...     689      0      0      0   \n",
       "2  120000  2  2  2  26  -1  2   0   0   0  ...    2682   3272   3455   3261   \n",
       "3   90000  2  2  2  34   0  0   0   0   0  ...   13559  14331  14948  15549   \n",
       "4   50000  2  2  1  37   0  0   0   0   0  ...   49291  28314  28959  29547   \n",
       "5   50000  1  2  1  57  -1  0  -1   0   0  ...   35835  20940  19146  19131   \n",
       "\n",
       "    X18    X19    X20   X21   X22   X23  \n",
       "1     0    689      0     0     0     0  \n",
       "2     0   1000   1000  1000     0  2000  \n",
       "3  1518   1500   1000  1000  1000  5000  \n",
       "4  2000   2019   1200  1100  1069  1000  \n",
       "5  2000  36681  10000  9000   689   679  \n",
       "\n",
       "[5 rows x 23 columns]"
      ]
     },
     "execution_count": 21,
     "metadata": {},
     "output_type": "execute_result"
    }
   ],
   "source": [
    "X_wds.head()"
   ]
  },
  {
   "cell_type": "code",
   "execution_count": 22,
   "metadata": {},
   "outputs": [
    {
     "data": {
      "text/html": [
       "<div>\n",
       "<style scoped>\n",
       "    .dataframe tbody tr th:only-of-type {\n",
       "        vertical-align: middle;\n",
       "    }\n",
       "\n",
       "    .dataframe tbody tr th {\n",
       "        vertical-align: top;\n",
       "    }\n",
       "\n",
       "    .dataframe thead th {\n",
       "        text-align: right;\n",
       "    }\n",
       "</style>\n",
       "<table border=\"1\" class=\"dataframe\">\n",
       "  <thead>\n",
       "    <tr style=\"text-align: right;\">\n",
       "      <th></th>\n",
       "      <th>Y</th>\n",
       "    </tr>\n",
       "  </thead>\n",
       "  <tbody>\n",
       "    <tr>\n",
       "      <th>1</th>\n",
       "      <td>1</td>\n",
       "    </tr>\n",
       "    <tr>\n",
       "      <th>2</th>\n",
       "      <td>1</td>\n",
       "    </tr>\n",
       "    <tr>\n",
       "      <th>3</th>\n",
       "      <td>0</td>\n",
       "    </tr>\n",
       "    <tr>\n",
       "      <th>4</th>\n",
       "      <td>0</td>\n",
       "    </tr>\n",
       "    <tr>\n",
       "      <th>5</th>\n",
       "      <td>0</td>\n",
       "    </tr>\n",
       "  </tbody>\n",
       "</table>\n",
       "</div>"
      ],
      "text/plain": [
       "   Y\n",
       "1  1\n",
       "2  1\n",
       "3  0\n",
       "4  0\n",
       "5  0"
      ]
     },
     "execution_count": 22,
     "metadata": {},
     "output_type": "execute_result"
    }
   ],
   "source": [
    "y_wds.head()"
   ]
  },
  {
   "cell_type": "markdown",
   "metadata": {},
   "source": [
    "De la descripción de las variables observamos que X2,X3,X4,X6,X7,X8,X9,X10 y X11 son variables categóricas. \n",
    "Sin embargo X2, sólo tiene dos valores por lo que tan sólo necesitamos codificar las variables X2,X3,X6..X11"
   ]
  },
  {
   "cell_type": "code",
   "execution_count": 23,
   "metadata": {},
   "outputs": [],
   "source": [
    "X_wds = pd.get_dummies(X_wds, columns = ['X3','X4','X6','X7','X8','X9','X10','X11'], drop_first = True)"
   ]
  },
  {
   "cell_type": "code",
   "execution_count": 24,
   "metadata": {},
   "outputs": [
    {
     "data": {
      "text/html": [
       "<div>\n",
       "<style scoped>\n",
       "    .dataframe tbody tr th:only-of-type {\n",
       "        vertical-align: middle;\n",
       "    }\n",
       "\n",
       "    .dataframe tbody tr th {\n",
       "        vertical-align: top;\n",
       "    }\n",
       "\n",
       "    .dataframe thead th {\n",
       "        text-align: right;\n",
       "    }\n",
       "</style>\n",
       "<table border=\"1\" class=\"dataframe\">\n",
       "  <thead>\n",
       "    <tr style=\"text-align: right;\">\n",
       "      <th></th>\n",
       "      <th>X1</th>\n",
       "      <th>X2</th>\n",
       "      <th>X5</th>\n",
       "      <th>X12</th>\n",
       "      <th>X13</th>\n",
       "      <th>X14</th>\n",
       "      <th>X15</th>\n",
       "      <th>X16</th>\n",
       "      <th>X17</th>\n",
       "      <th>X18</th>\n",
       "      <th>...</th>\n",
       "      <th>X10_8</th>\n",
       "      <th>X11_-2</th>\n",
       "      <th>X11_0</th>\n",
       "      <th>X11_2</th>\n",
       "      <th>X11_3</th>\n",
       "      <th>X11_4</th>\n",
       "      <th>X11_5</th>\n",
       "      <th>X11_6</th>\n",
       "      <th>X11_7</th>\n",
       "      <th>X11_8</th>\n",
       "    </tr>\n",
       "  </thead>\n",
       "  <tbody>\n",
       "    <tr>\n",
       "      <th>1</th>\n",
       "      <td>20000</td>\n",
       "      <td>2</td>\n",
       "      <td>24</td>\n",
       "      <td>3913</td>\n",
       "      <td>3102</td>\n",
       "      <td>689</td>\n",
       "      <td>0</td>\n",
       "      <td>0</td>\n",
       "      <td>0</td>\n",
       "      <td>0</td>\n",
       "      <td>...</td>\n",
       "      <td>0</td>\n",
       "      <td>1</td>\n",
       "      <td>0</td>\n",
       "      <td>0</td>\n",
       "      <td>0</td>\n",
       "      <td>0</td>\n",
       "      <td>0</td>\n",
       "      <td>0</td>\n",
       "      <td>0</td>\n",
       "      <td>0</td>\n",
       "    </tr>\n",
       "    <tr>\n",
       "      <th>2</th>\n",
       "      <td>120000</td>\n",
       "      <td>2</td>\n",
       "      <td>26</td>\n",
       "      <td>2682</td>\n",
       "      <td>1725</td>\n",
       "      <td>2682</td>\n",
       "      <td>3272</td>\n",
       "      <td>3455</td>\n",
       "      <td>3261</td>\n",
       "      <td>0</td>\n",
       "      <td>...</td>\n",
       "      <td>0</td>\n",
       "      <td>0</td>\n",
       "      <td>0</td>\n",
       "      <td>1</td>\n",
       "      <td>0</td>\n",
       "      <td>0</td>\n",
       "      <td>0</td>\n",
       "      <td>0</td>\n",
       "      <td>0</td>\n",
       "      <td>0</td>\n",
       "    </tr>\n",
       "    <tr>\n",
       "      <th>3</th>\n",
       "      <td>90000</td>\n",
       "      <td>2</td>\n",
       "      <td>34</td>\n",
       "      <td>29239</td>\n",
       "      <td>14027</td>\n",
       "      <td>13559</td>\n",
       "      <td>14331</td>\n",
       "      <td>14948</td>\n",
       "      <td>15549</td>\n",
       "      <td>1518</td>\n",
       "      <td>...</td>\n",
       "      <td>0</td>\n",
       "      <td>0</td>\n",
       "      <td>1</td>\n",
       "      <td>0</td>\n",
       "      <td>0</td>\n",
       "      <td>0</td>\n",
       "      <td>0</td>\n",
       "      <td>0</td>\n",
       "      <td>0</td>\n",
       "      <td>0</td>\n",
       "    </tr>\n",
       "    <tr>\n",
       "      <th>4</th>\n",
       "      <td>50000</td>\n",
       "      <td>2</td>\n",
       "      <td>37</td>\n",
       "      <td>46990</td>\n",
       "      <td>48233</td>\n",
       "      <td>49291</td>\n",
       "      <td>28314</td>\n",
       "      <td>28959</td>\n",
       "      <td>29547</td>\n",
       "      <td>2000</td>\n",
       "      <td>...</td>\n",
       "      <td>0</td>\n",
       "      <td>0</td>\n",
       "      <td>1</td>\n",
       "      <td>0</td>\n",
       "      <td>0</td>\n",
       "      <td>0</td>\n",
       "      <td>0</td>\n",
       "      <td>0</td>\n",
       "      <td>0</td>\n",
       "      <td>0</td>\n",
       "    </tr>\n",
       "    <tr>\n",
       "      <th>5</th>\n",
       "      <td>50000</td>\n",
       "      <td>1</td>\n",
       "      <td>57</td>\n",
       "      <td>8617</td>\n",
       "      <td>5670</td>\n",
       "      <td>35835</td>\n",
       "      <td>20940</td>\n",
       "      <td>19146</td>\n",
       "      <td>19131</td>\n",
       "      <td>2000</td>\n",
       "      <td>...</td>\n",
       "      <td>0</td>\n",
       "      <td>0</td>\n",
       "      <td>1</td>\n",
       "      <td>0</td>\n",
       "      <td>0</td>\n",
       "      <td>0</td>\n",
       "      <td>0</td>\n",
       "      <td>0</td>\n",
       "      <td>0</td>\n",
       "      <td>0</td>\n",
       "    </tr>\n",
       "  </tbody>\n",
       "</table>\n",
       "<p>5 rows × 82 columns</p>\n",
       "</div>"
      ],
      "text/plain": [
       "       X1 X2  X5    X12    X13    X14    X15    X16    X17   X18  ...   X10_8  \\\n",
       "1   20000  2  24   3913   3102    689      0      0      0     0  ...       0   \n",
       "2  120000  2  26   2682   1725   2682   3272   3455   3261     0  ...       0   \n",
       "3   90000  2  34  29239  14027  13559  14331  14948  15549  1518  ...       0   \n",
       "4   50000  2  37  46990  48233  49291  28314  28959  29547  2000  ...       0   \n",
       "5   50000  1  57   8617   5670  35835  20940  19146  19131  2000  ...       0   \n",
       "\n",
       "  X11_-2 X11_0 X11_2 X11_3  X11_4  X11_5  X11_6  X11_7  X11_8  \n",
       "1      1     0     0     0      0      0      0      0      0  \n",
       "2      0     0     1     0      0      0      0      0      0  \n",
       "3      0     1     0     0      0      0      0      0      0  \n",
       "4      0     1     0     0      0      0      0      0      0  \n",
       "5      0     1     0     0      0      0      0      0      0  \n",
       "\n",
       "[5 rows x 82 columns]"
      ]
     },
     "execution_count": 24,
     "metadata": {},
     "output_type": "execute_result"
    }
   ],
   "source": [
    "X_wds.head()"
   ]
  },
  {
   "cell_type": "markdown",
   "metadata": {},
   "source": [
    "**Vemos que ahora el modelo contiene 82 variables independientes!!!!**"
   ]
  },
  {
   "cell_type": "markdown",
   "metadata": {},
   "source": [
    "## Separación en conjunto de entrenamiento y conjunto de test ##"
   ]
  },
  {
   "cell_type": "code",
   "execution_count": 25,
   "metadata": {},
   "outputs": [],
   "source": [
    "from sklearn.model_selection import train_test_split\n",
    "X_train, X_test, y_train, y_test = train_test_split(X_wds.iloc[:,:].values, \n",
    "                                                    y_wds.iloc[:,:].values, \n",
    "                                                    test_size = 0.2, random_state = 0)"
   ]
  },
  {
   "cell_type": "markdown",
   "metadata": {},
   "source": [
    "## Normalización de las variables para el modelo ANN ##"
   ]
  },
  {
   "cell_type": "code",
   "execution_count": 26,
   "metadata": {},
   "outputs": [],
   "source": [
    "from sklearn.preprocessing import StandardScaler\n",
    "sc = StandardScaler()\n",
    "X_train = sc.fit_transform(X_train.astype(float))\n",
    "X_test = sc.transform(X_test.astype(float))"
   ]
  },
  {
   "cell_type": "markdown",
   "metadata": {},
   "source": [
    "## Construyendo el modelo ANN ##"
   ]
  },
  {
   "cell_type": "code",
   "execution_count": 27,
   "metadata": {},
   "outputs": [
    {
     "name": "stderr",
     "output_type": "stream",
     "text": [
      "/home/juan-pablo/anaconda3/envs/tensorflow/lib/python3.6/site-packages/h5py/__init__.py:36: FutureWarning: Conversion of the second argument of issubdtype from `float` to `np.floating` is deprecated. In future, it will be treated as `np.float64 == np.dtype(float).type`.\n",
      "  from ._conv import register_converters as _register_converters\n",
      "Using Theano backend.\n"
     ]
    }
   ],
   "source": [
    "# Importing the Keras libraries and packages\n",
    "import keras\n",
    "from keras.models import Sequential\n",
    "from keras.layers import Dense"
   ]
  },
  {
   "cell_type": "markdown",
   "metadata": {},
   "source": [
    "### Inicializando el ANN ##"
   ]
  },
  {
   "cell_type": "code",
   "execution_count": 28,
   "metadata": {},
   "outputs": [],
   "source": [
    "classifier = Sequential()"
   ]
  },
  {
   "cell_type": "markdown",
   "metadata": {},
   "source": [
    "Utilizaremos una red con tres capas, la de input, una oculta y una de salida"
   ]
  },
  {
   "cell_type": "markdown",
   "metadata": {},
   "source": [
    "El modelo tiene 82 variables independientes con las que inicializamos la capa de input (input_dim =82) y consideramos 42 nodos ((82+1)/2 rule of thumb).\n",
    "E iniciamos los pesos con una distribución uniforme.\n",
    "Finalmente, la función de rectificación es relu."
   ]
  },
  {
   "cell_type": "code",
   "execution_count": 29,
   "metadata": {},
   "outputs": [],
   "source": [
    "# Adding the input layer and the first hidden layer\n",
    "classifier.add(Dense(activation = 'relu', input_dim = 82, units = 42, kernel_initializer = 'uniform'))"
   ]
  },
  {
   "cell_type": "code",
   "execution_count": 30,
   "metadata": {},
   "outputs": [],
   "source": [
    "# Adding the second hidden layer\n",
    "classifier.add(Dense(activation = 'relu',units = 42, kernel_initializer = 'uniform'))"
   ]
  },
  {
   "cell_type": "markdown",
   "metadata": {},
   "source": [
    "En el caso de la capa de salida utilizamos la función de rectificación sigmoid para generar las probabilidades"
   ]
  },
  {
   "cell_type": "code",
   "execution_count": 31,
   "metadata": {},
   "outputs": [],
   "source": [
    "# Adding the output layer\n",
    "classifier.add(Dense(activation = 'sigmoid',units = 1, kernel_initializer = 'uniform'))"
   ]
  },
  {
   "cell_type": "markdown",
   "metadata": {},
   "source": [
    "### Compilando el ANN ###"
   ]
  },
  {
   "cell_type": "markdown",
   "metadata": {},
   "source": [
    "La métrica para definir la exactitud es 'accuracy', la función de costo es 'binary_crossentropy', y utilizamos \n",
    "el optimizador 'adam'"
   ]
  },
  {
   "cell_type": "code",
   "execution_count": 32,
   "metadata": {},
   "outputs": [],
   "source": [
    "# Compiling the ANN\n",
    "classifier.compile (optimizer = 'adam', loss = 'binary_crossentropy', metrics = ['accuracy'])"
   ]
  },
  {
   "cell_type": "markdown",
   "metadata": {},
   "source": [
    "### Hacemos ahora entrenar al modelo ANN ###"
   ]
  },
  {
   "cell_type": "markdown",
   "metadata": {},
   "source": [
    "**Generamos dos objectos History para utilizarlos como callbacks al final de las épocas y calcular por ejemplo \n",
    "la exactitud**"
   ]
  },
  {
   "cell_type": "code",
   "execution_count": 33,
   "metadata": {},
   "outputs": [],
   "source": [
    "class LossHistory(keras.callbacks.Callback):\n",
    "    def on_train_begin(self, logs={}):\n",
    "        self.losses = []\n",
    "\n",
    "    def on_epoch_end(self, batch, logs={}):\n",
    "        self.losses.append(logs.get('loss'))\n",
    "        \n",
    "class AccHistory(keras.callbacks.Callback):\n",
    "    def on_train_begin(self, logs={}):\n",
    "        self.acc = []\n",
    "\n",
    "    def on_epoch_end(self, batch, logs={}):\n",
    "        self.acc.append(logs.get('acc'))\n",
    "\n",
    "history = LossHistory()\n",
    "history2 = AccHistory()"
   ]
  },
  {
   "cell_type": "markdown",
   "metadata": {},
   "source": [
    "Utilizamos un batch de 10 (cada 10 valores recalculamos) y 100 épocas (100 corridas completas)"
   ]
  },
  {
   "cell_type": "code",
   "execution_count": 34,
   "metadata": {},
   "outputs": [
    {
     "name": "stdout",
     "output_type": "stream",
     "text": [
      "Epoch 1/100\n",
      "24000/24000 [==============================] - 1s 48us/step - loss: 0.4454 - acc: 0.8142\n",
      "Epoch 2/100\n",
      "24000/24000 [==============================] - 1s 54us/step - loss: 0.4352 - acc: 0.8199\n",
      "Epoch 3/100\n",
      "24000/24000 [==============================] - 1s 46us/step - loss: 0.4326 - acc: 0.8203: 0s - loss: 0.\n",
      "Epoch 4/100\n",
      "24000/24000 [==============================] - 1s 45us/step - loss: 0.4304 - acc: 0.8216\n",
      "Epoch 5/100\n",
      "24000/24000 [==============================] - 1s 46us/step - loss: 0.4295 - acc: 0.8226\n",
      "Epoch 6/100\n",
      "24000/24000 [==============================] - 1s 52us/step - loss: 0.4276 - acc: 0.8237\n",
      "Epoch 7/100\n",
      "24000/24000 [==============================] - 1s 48us/step - loss: 0.4267 - acc: 0.8235\n",
      "Epoch 8/100\n",
      "24000/24000 [==============================] - 1s 46us/step - loss: 0.4262 - acc: 0.8245\n",
      "Epoch 9/100\n",
      "24000/24000 [==============================] - 1s 46us/step - loss: 0.4250 - acc: 0.8232\n",
      "Epoch 10/100\n",
      "24000/24000 [==============================] - 1s 48us/step - loss: 0.4239 - acc: 0.8254\n",
      "Epoch 11/100\n",
      "24000/24000 [==============================] - 1s 52us/step - loss: 0.4225 - acc: 0.8256\n",
      "Epoch 12/100\n",
      "24000/24000 [==============================] - 1s 48us/step - loss: 0.4214 - acc: 0.8260\n",
      "Epoch 13/100\n",
      "24000/24000 [==============================] - 1s 47us/step - loss: 0.4203 - acc: 0.8271\n",
      "Epoch 14/100\n",
      "24000/24000 [==============================] - 1s 47us/step - loss: 0.4194 - acc: 0.8265\n",
      "Epoch 15/100\n",
      "24000/24000 [==============================] - 1s 47us/step - loss: 0.4183 - acc: 0.8282\n",
      "Epoch 16/100\n",
      "24000/24000 [==============================] - 1s 48us/step - loss: 0.4164 - acc: 0.8281\n",
      "Epoch 17/100\n",
      "24000/24000 [==============================] - 1s 50us/step - loss: 0.4159 - acc: 0.8283\n",
      "Epoch 18/100\n",
      "24000/24000 [==============================] - 1s 48us/step - loss: 0.4144 - acc: 0.8291\n",
      "Epoch 19/100\n",
      "24000/24000 [==============================] - 1s 57us/step - loss: 0.4132 - acc: 0.8303\n",
      "Epoch 20/100\n",
      "24000/24000 [==============================] - 1s 55us/step - loss: 0.4121 - acc: 0.8292\n",
      "Epoch 21/100\n",
      "24000/24000 [==============================] - 1s 48us/step - loss: 0.4115 - acc: 0.8302\n",
      "Epoch 22/100\n",
      "24000/24000 [==============================] - 1s 47us/step - loss: 0.4098 - acc: 0.8309\n",
      "Epoch 23/100\n",
      "24000/24000 [==============================] - 1s 41us/step - loss: 0.4086 - acc: 0.8309\n",
      "Epoch 24/100\n",
      "24000/24000 [==============================] - 1s 41us/step - loss: 0.4076 - acc: 0.8319\n",
      "Epoch 25/100\n",
      "24000/24000 [==============================] - 1s 41us/step - loss: 0.4062 - acc: 0.8318\n",
      "Epoch 26/100\n",
      "24000/24000 [==============================] - 1s 41us/step - loss: 0.4053 - acc: 0.8332\n",
      "Epoch 27/100\n",
      "24000/24000 [==============================] - 1s 44us/step - loss: 0.4042 - acc: 0.8320\n",
      "Epoch 28/100\n",
      "24000/24000 [==============================] - 1s 41us/step - loss: 0.4036 - acc: 0.8329\n",
      "Epoch 29/100\n",
      "24000/24000 [==============================] - 1s 40us/step - loss: 0.4016 - acc: 0.8335\n",
      "Epoch 30/100\n",
      "24000/24000 [==============================] - 1s 41us/step - loss: 0.4007 - acc: 0.8334\n",
      "Epoch 31/100\n",
      "24000/24000 [==============================] - 1s 42us/step - loss: 0.4000 - acc: 0.8337\n",
      "Epoch 32/100\n",
      "24000/24000 [==============================] - 1s 42us/step - loss: 0.3982 - acc: 0.8336\n",
      "Epoch 33/100\n",
      "24000/24000 [==============================] - 1s 43us/step - loss: 0.3982 - acc: 0.8339\n",
      "Epoch 34/100\n",
      "24000/24000 [==============================] - 1s 43us/step - loss: 0.3972 - acc: 0.8366\n",
      "Epoch 35/100\n",
      "24000/24000 [==============================] - 1s 47us/step - loss: 0.3952 - acc: 0.8348\n",
      "Epoch 36/100\n",
      "24000/24000 [==============================] - 1s 50us/step - loss: 0.3940 - acc: 0.8355\n",
      "Epoch 37/100\n",
      "24000/24000 [==============================] - 1s 44us/step - loss: 0.3928 - acc: 0.8387\n",
      "Epoch 38/100\n",
      "24000/24000 [==============================] - 1s 42us/step - loss: 0.3914 - acc: 0.8370\n",
      "Epoch 39/100\n",
      "24000/24000 [==============================] - 1s 44us/step - loss: 0.3904 - acc: 0.8377\n",
      "Epoch 40/100\n",
      "24000/24000 [==============================] - 1s 43us/step - loss: 0.3895 - acc: 0.8379\n",
      "Epoch 41/100\n",
      "24000/24000 [==============================] - 1s 47us/step - loss: 0.3894 - acc: 0.8388\n",
      "Epoch 42/100\n",
      "24000/24000 [==============================] - 1s 47us/step - loss: 0.3881 - acc: 0.8383\n",
      "Epoch 43/100\n",
      "24000/24000 [==============================] - 1s 41us/step - loss: 0.3864 - acc: 0.8391\n",
      "Epoch 44/100\n",
      "24000/24000 [==============================] - 1s 45us/step - loss: 0.3843 - acc: 0.8406\n",
      "Epoch 45/100\n",
      "24000/24000 [==============================] - 1s 44us/step - loss: 0.3842 - acc: 0.8408\n",
      "Epoch 46/100\n",
      "24000/24000 [==============================] - 1s 43us/step - loss: 0.3831 - acc: 0.8407\n",
      "Epoch 47/100\n",
      "24000/24000 [==============================] - 1s 42us/step - loss: 0.3818 - acc: 0.8421\n",
      "Epoch 48/100\n",
      "24000/24000 [==============================] - 1s 41us/step - loss: 0.3807 - acc: 0.8423\n",
      "Epoch 49/100\n",
      "24000/24000 [==============================] - 1s 42us/step - loss: 0.3797 - acc: 0.8422\n",
      "Epoch 50/100\n",
      "24000/24000 [==============================] - 1s 45us/step - loss: 0.3791 - acc: 0.8446\n",
      "Epoch 51/100\n",
      "24000/24000 [==============================] - 1s 44us/step - loss: 0.3773 - acc: 0.8435\n",
      "Epoch 52/100\n",
      "24000/24000 [==============================] - 1s 45us/step - loss: 0.3768 - acc: 0.8434\n",
      "Epoch 53/100\n",
      "24000/24000 [==============================] - 1s 42us/step - loss: 0.3751 - acc: 0.8445\n",
      "Epoch 54/100\n",
      "24000/24000 [==============================] - 1s 42us/step - loss: 0.3746 - acc: 0.8431\n",
      "Epoch 55/100\n",
      "24000/24000 [==============================] - 1s 42us/step - loss: 0.3737 - acc: 0.8442\n",
      "Epoch 56/100\n",
      "24000/24000 [==============================] - 1s 42us/step - loss: 0.3730 - acc: 0.8439\n",
      "Epoch 57/100\n",
      "24000/24000 [==============================] - 1s 42us/step - loss: 0.3715 - acc: 0.8454\n",
      "Epoch 58/100\n",
      "24000/24000 [==============================] - 1s 42us/step - loss: 0.3712 - acc: 0.8459\n",
      "Epoch 59/100\n",
      "24000/24000 [==============================] - 1s 42us/step - loss: 0.3693 - acc: 0.8456\n",
      "Epoch 60/100\n",
      "24000/24000 [==============================] - 1s 44us/step - loss: 0.3683 - acc: 0.8459\n",
      "Epoch 61/100\n",
      "24000/24000 [==============================] - 1s 44us/step - loss: 0.3669 - acc: 0.8466\n",
      "Epoch 62/100\n",
      "24000/24000 [==============================] - 1s 42us/step - loss: 0.3672 - acc: 0.8467\n",
      "Epoch 63/100\n",
      "24000/24000 [==============================] - 1s 42us/step - loss: 0.3662 - acc: 0.8472\n",
      "Epoch 64/100\n",
      "24000/24000 [==============================] - 1s 42us/step - loss: 0.3655 - acc: 0.8477\n",
      "Epoch 65/100\n",
      "24000/24000 [==============================] - 1s 41us/step - loss: 0.3697 - acc: 0.8480\n",
      "Epoch 66/100\n",
      "24000/24000 [==============================] - 1s 42us/step - loss: 0.3643 - acc: 0.8484\n",
      "Epoch 67/100\n",
      "24000/24000 [==============================] - 1s 42us/step - loss: 0.3630 - acc: 0.8506\n",
      "Epoch 68/100\n",
      "24000/24000 [==============================] - 1s 41us/step - loss: 0.3607 - acc: 0.8503\n",
      "Epoch 69/100\n",
      "24000/24000 [==============================] - 1s 42us/step - loss: 0.3649 - acc: 0.8502\n",
      "Epoch 70/100\n",
      "24000/24000 [==============================] - 1s 43us/step - loss: 0.3605 - acc: 0.8497\n",
      "Epoch 71/100\n",
      "24000/24000 [==============================] - 1s 46us/step - loss: 0.3597 - acc: 0.8500\n",
      "Epoch 72/100\n",
      "24000/24000 [==============================] - 1s 42us/step - loss: 0.3600 - acc: 0.8501\n",
      "Epoch 73/100\n",
      "24000/24000 [==============================] - 1s 43us/step - loss: 0.3591 - acc: 0.8504\n",
      "Epoch 74/100\n",
      "24000/24000 [==============================] - 1s 42us/step - loss: 0.3584 - acc: 0.8508\n",
      "Epoch 75/100\n",
      "24000/24000 [==============================] - 1s 42us/step - loss: 0.3553 - acc: 0.8525\n",
      "Epoch 76/100\n",
      "24000/24000 [==============================] - 1s 42us/step - loss: 0.3561 - acc: 0.8512\n",
      "Epoch 77/100\n",
      "24000/24000 [==============================] - 1s 42us/step - loss: 0.3547 - acc: 0.8523\n",
      "Epoch 78/100\n",
      "24000/24000 [==============================] - 1s 42us/step - loss: 0.3557 - acc: 0.8534\n",
      "Epoch 79/100\n",
      "24000/24000 [==============================] - 1s 42us/step - loss: 0.3535 - acc: 0.8534\n",
      "Epoch 80/100\n",
      "24000/24000 [==============================] - 1s 42us/step - loss: 0.3531 - acc: 0.8544\n",
      "Epoch 81/100\n"
     ]
    },
    {
     "name": "stdout",
     "output_type": "stream",
     "text": [
      "24000/24000 [==============================] - 1s 42us/step - loss: 0.3513 - acc: 0.8548\n",
      "Epoch 82/100\n",
      "24000/24000 [==============================] - 1s 43us/step - loss: 0.3523 - acc: 0.8532\n",
      "Epoch 83/100\n",
      "24000/24000 [==============================] - 1s 42us/step - loss: 0.3513 - acc: 0.8534\n",
      "Epoch 84/100\n",
      "24000/24000 [==============================] - 1s 42us/step - loss: 0.3503 - acc: 0.8547\n",
      "Epoch 85/100\n",
      "24000/24000 [==============================] - 1s 44us/step - loss: 0.3500 - acc: 0.8557\n",
      "Epoch 86/100\n",
      "24000/24000 [==============================] - 1s 42us/step - loss: 0.3507 - acc: 0.8550\n",
      "Epoch 87/100\n",
      "24000/24000 [==============================] - 1s 45us/step - loss: 0.3486 - acc: 0.8562\n",
      "Epoch 88/100\n",
      "24000/24000 [==============================] - 1s 47us/step - loss: 0.3512 - acc: 0.8555\n",
      "Epoch 89/100\n",
      "24000/24000 [==============================] - 1s 43us/step - loss: 0.3489 - acc: 0.8557\n",
      "Epoch 90/100\n",
      "24000/24000 [==============================] - 1s 43us/step - loss: 0.3475 - acc: 0.8550\n",
      "Epoch 91/100\n",
      "24000/24000 [==============================] - 1s 45us/step - loss: 0.3472 - acc: 0.8573\n",
      "Epoch 92/100\n",
      "24000/24000 [==============================] - 1s 42us/step - loss: 0.3463 - acc: 0.8572\n",
      "Epoch 93/100\n",
      "24000/24000 [==============================] - 1s 52us/step - loss: 0.3463 - acc: 0.8555\n",
      "Epoch 94/100\n",
      "24000/24000 [==============================] - 1s 45us/step - loss: 0.3498 - acc: 0.8565\n",
      "Epoch 95/100\n",
      "24000/24000 [==============================] - 1s 49us/step - loss: 0.3500 - acc: 0.8567\n",
      "Epoch 96/100\n",
      "24000/24000 [==============================] - 1s 43us/step - loss: 0.3486 - acc: 0.8577\n",
      "Epoch 97/100\n",
      "24000/24000 [==============================] - 1s 43us/step - loss: 0.3448 - acc: 0.8565\n",
      "Epoch 98/100\n",
      "24000/24000 [==============================] - 1s 47us/step - loss: 0.3430 - acc: 0.8573\n",
      "Epoch 99/100\n",
      "24000/24000 [==============================] - 1s 43us/step - loss: 0.3435 - acc: 0.8562\n",
      "Epoch 100/100\n",
      "24000/24000 [==============================] - 1s 43us/step - loss: 0.3426 - acc: 0.8572\n"
     ]
    },
    {
     "data": {
      "text/plain": [
       "<keras.callbacks.History at 0x7f57f883ddd8>"
      ]
     },
     "execution_count": 34,
     "metadata": {},
     "output_type": "execute_result"
    }
   ],
   "source": [
    "# Fitting the ANN to the Training set\n",
    "classifier.fit (X_train, y_train, batch_size = 10, epochs = 100, callbacks=[history, history2])"
   ]
  },
  {
   "cell_type": "markdown",
   "metadata": {},
   "source": [
    "Verificamos la exactitud del ANN sobre el conjunto de entrenamiento"
   ]
  },
  {
   "cell_type": "code",
   "execution_count": 35,
   "metadata": {},
   "outputs": [
    {
     "name": "stdout",
     "output_type": "stream",
     "text": [
      "Precisión después de 100 épocas: 0.8571666607260704\n"
     ]
    }
   ],
   "source": [
    "print(\"Precisión después de 100 épocas:\",history2.acc[-1])"
   ]
  },
  {
   "cell_type": "markdown",
   "metadata": {},
   "source": [
    "### Evolución de la precisión ###"
   ]
  },
  {
   "cell_type": "code",
   "execution_count": 36,
   "metadata": {},
   "outputs": [
    {
     "data": {
      "image/png": "[encoded data removed]",
      "text/plain": [
       "<Figure size 432x288 with 1 Axes>"
      ]
     },
     "metadata": {},
     "output_type": "display_data"
    }
   ],
   "source": [
    "# Visualization of acc evolution between epochs\n",
    "x_vals = list(range(1,101))\n",
    "y_vals = history2.acc\n",
    "plt.plot(x_vals, y_vals)\n",
    "plt.title('Accuracy Evolution')\n",
    "plt.xlabel('Epochs')\n",
    "plt.ylabel('Accuracy')\n",
    "plt.show()"
   ]
  },
  {
   "cell_type": "markdown",
   "metadata": {},
   "source": [
    "## Predicción del conjunto de test ##"
   ]
  },
  {
   "cell_type": "code",
   "execution_count": 37,
   "metadata": {},
   "outputs": [],
   "source": [
    "# Predicting the Test set results\n",
    "y_pred = classifier.predict(X_test)"
   ]
  },
  {
   "cell_type": "markdown",
   "metadata": {},
   "source": [
    "### Visualización de la distribución de la predicción ###"
   ]
  },
  {
   "cell_type": "code",
   "execution_count": 38,
   "metadata": {},
   "outputs": [
    {
     "data": {
      "image/png": "[encoded data removed]",
      "text/plain": [
       "<Figure size 432x288 with 1 Axes>"
      ]
     },
     "metadata": {},
     "output_type": "display_data"
    }
   ],
   "source": [
    "# Histogram of predicted values\n",
    "plt.hist(y_pred, bins=10)\n",
    "plt.title('Histogram of Predicted Values')\n",
    "plt.xlabel('Probabilites')\n",
    "plt.ylabel('Frequency')\n",
    "plt.show()"
   ]
  },
  {
   "cell_type": "code",
   "execution_count": null,
   "metadata": {},
   "outputs": [],
   "source": []
  }
 ],
 "metadata": {
  "kernelspec": {
   "display_name": "Python 3",
   "language": "python",
   "name": "python3"
  },
  "language_info": {
   "codemirror_mode": {
    "name": "ipython",
    "version": 3
   },
   "file_extension": ".py",
   "mimetype": "text/x-python",
   "name": "python",
   "nbconvert_exporter": "python",
   "pygments_lexer": "ipython3",
   "version": "3.6.4"
  }
 },
 "nbformat": 4,
 "nbformat_minor": 2
}
